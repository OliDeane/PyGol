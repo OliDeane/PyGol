{
 "cells": [
  {
   "cell_type": "code",
   "execution_count": 1,
   "id": "e655d517",
   "metadata": {},
   "outputs": [],
   "source": [
    "c=['active(d43).', 'active(d72).', 'active(d46).', 'active(d125).', 'active(d115).', 'active(d1).', 'active(d178).', 'active(d95).', 'active(d173).', 'active(d146).', 'active(d21).', 'active(d101).', 'active(d83).', 'active(d127).', 'active(d99).', 'active(d97).', 'active(d187).', 'active(d59).', 'active(d151).', 'active(d33).', 'active(d41).', 'active(d86).', 'active(d69).', 'active(d58).', 'active(d177).', 'active(d79).', 'active(d163).', 'active(d20).', 'active(d47).', 'active(d85).', 'active(d93).', 'active(d126).', 'active(d49).', 'active(d29).', 'active(d45).', 'active(d158).', 'active(d140).', 'active(d87).', 'active(d169).', 'active(d25).', 'active(d23).', 'active(d10).', 'active(d27).', 'active(d112).', 'active(d74).', 'active(d118).', 'active(d108).', 'active(d165).', 'active(d121).', 'active(d13).', 'active(d162).', 'active(d104).', 'active(d50).', 'active(d26).', 'active(d180).', 'active(d64).', 'active(d80).', 'active(d15).', 'active(d67).', 'active(d159).', 'active(d61).', 'active(d134).', 'active(d24).', 'active(d161).', 'active(d106).', 'active(d136).', 'active(d82).', 'active(d31).', 'active(d12).', 'active(d8).', 'active(d60).', 'active(d28).', 'active(d174).', 'active(d52).', 'active(d75).', 'active(d16).', 'active(d153).', 'active(d96).', 'active(d152).', 'active(d4).', 'active(d51).', 'active(d30).', 'active(d176).', 'active(d164).', 'active(d48).', 'active(d105).', 'active(d6).', 'active(d32).', 'active(d37).', 'active(d56).', 'active(d109).', 'active(d171).', 'active(d122).', 'active(d92).', 'active(d94).', 'active(d57).', 'active(d63).', 'active(d102).', 'active(d172).', 'active(d22).', 'active(d128).', 'active(d166).', 'active(d117).', 'active(d35).', 'active(d148).', 'active(d103).', 'active(d183).', 'active(d91).', 'active(d170).', 'active(d68).', 'active(d137).', 'active(d107).', 'active(d71).']"
   ]
  },
  {
   "cell_type": "code",
   "execution_count": 2,
   "id": "2ab319d0",
   "metadata": {},
   "outputs": [
    {
     "data": {
      "text/plain": [
       "113"
      ]
     },
     "execution_count": 2,
     "metadata": {},
     "output_type": "execute_result"
    }
   ],
   "source": [
    "len(c)"
   ]
  },
  {
   "cell_type": "code",
   "execution_count": null,
   "id": "98f8fe09",
   "metadata": {},
   "outputs": [],
   "source": []
  }
 ],
 "metadata": {
  "kernelspec": {
   "display_name": "Python 3",
   "language": "python",
   "name": "python3"
  },
  "language_info": {
   "codemirror_mode": {
    "name": "ipython",
    "version": 3
   },
   "file_extension": ".py",
   "mimetype": "text/x-python",
   "name": "python",
   "nbconvert_exporter": "python",
   "pygments_lexer": "ipython3",
   "version": "3.8.8"
  }
 },
 "nbformat": 4,
 "nbformat_minor": 5
}
